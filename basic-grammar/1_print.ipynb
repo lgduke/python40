{
 "cells": [
  {
   "cell_type": "code",
   "execution_count": 4,
   "metadata": {},
   "outputs": [
    {
     "name": "stdout",
     "output_type": "stream",
     "text": [
      "hello \"안녕하세요\"\n",
      "hello '안녕하세요'\n"
     ]
    }
   ],
   "source": [
    "print('hello \"안녕하세요\"')\n",
    "\n",
    "print(\"hello '안녕하세요'\")"
   ]
  },
  {
   "cell_type": "code",
   "execution_count": 5,
   "metadata": {},
   "outputs": [
    {
     "name": "stdout",
     "output_type": "stream",
     "text": [
      "안녕하세요 반갑습니다\n"
     ]
    }
   ],
   "source": [
    "print(\"안녕하세요\",\"반갑습니다\")"
   ]
  },
  {
   "cell_type": "code",
   "execution_count": 6,
   "metadata": {},
   "outputs": [
    {
     "name": "stdout",
     "output_type": "stream",
     "text": [
      "안녕 하세요 반갑습니다\n"
     ]
    }
   ],
   "source": [
    "print(\"안녕\"+\" 하세요\",\"반갑습니다\")"
   ]
  },
  {
   "cell_type": "code",
   "execution_count": 8,
   "metadata": {},
   "outputs": [
    {
     "name": "stdout",
     "output_type": "stream",
     "text": [
      "안녕 하세요 \n",
      "날씨가 좋네요\n"
     ]
    }
   ],
   "source": [
    "print(\"\"\"안녕 하세요 \n",
    "날씨가 좋네요\"\"\")"
   ]
  },
  {
   "cell_type": "code",
   "execution_count": 11,
   "metadata": {},
   "outputs": [
    {
     "name": "stdout",
     "output_type": "stream",
     "text": [
      "a:123 b:안녕\n"
     ]
    }
   ],
   "source": [
    "a=123\n",
    "b=\"안녕\"\n",
    "print(\"a:{} b:{}\".format(a,b))"
   ]
  },
  {
   "cell_type": "code",
   "execution_count": 12,
   "metadata": {},
   "outputs": [
    {
     "name": "stdout",
     "output_type": "stream",
     "text": [
      "a:123 b:안녕\n"
     ]
    }
   ],
   "source": [
    "a=123\n",
    "b=\"안녕\"\n",
    "print(f\"a:{a} b:{b}\")"
   ]
  }
 ],
 "metadata": {
  "kernelspec": {
   "display_name": "Python 3",
   "language": "python",
   "name": "python3"
  },
  "language_info": {
   "codemirror_mode": {
    "name": "ipython",
    "version": 3
   },
   "file_extension": ".py",
   "mimetype": "text/x-python",
   "name": "python",
   "nbconvert_exporter": "python",
   "pygments_lexer": "ipython3",
   "version": "3.8.2"
  },
  "orig_nbformat": 4
 },
 "nbformat": 4,
 "nbformat_minor": 2
}
