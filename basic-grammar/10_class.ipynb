{
 "cells": [
  {
   "cell_type": "code",
   "execution_count": 2,
   "metadata": {},
   "outputs": [
    {
     "name": "stdout",
     "output_type": "stream",
     "text": [
      "hello\n",
      "hi\n",
      "hello\n"
     ]
    },
    {
     "ename": "NameError",
     "evalue": "name 'human3' is not defined",
     "output_type": "error",
     "traceback": [
      "\u001b[0;31m---------------------------------------------------------------------------\u001b[0m",
      "\u001b[0;31mNameError\u001b[0m                                 Traceback (most recent call last)",
      "Cell \u001b[0;32mIn[2], line 11\u001b[0m\n\u001b[1;32m      9\u001b[0m human1\u001b[39m.\u001b[39mhi()\n\u001b[1;32m     10\u001b[0m human2\u001b[39m.\u001b[39mhello()\n\u001b[0;32m---> 11\u001b[0m human3\u001b[39m.\u001b[39mhi()\n",
      "\u001b[0;31mNameError\u001b[0m: name 'human3' is not defined"
     ]
    }
   ],
   "source": [
    "class Greet():\n",
    "    def hello(self):\n",
    "        print(\"hello\")\n",
    "    def hi(self):\n",
    "        print(\"hi\")\n",
    "human1 = Greet()\n",
    "human2 = Greet()\n",
    "human1.hello()\n",
    "human1.hi()\n",
    "human2.hello()\n",
    "human2.hi()\n",
    "\n"
   ]
  },
  {
   "cell_type": "code",
   "execution_count": 2,
   "metadata": {},
   "outputs": [
    {
     "name": "stdout",
     "output_type": "stream",
     "text": [
      "name:Kim, age:17, like :soccer\n",
      "name:jang, age:17, like :carbot\n"
     ]
    }
   ],
   "source": [
    "class Student():\n",
    "    def __init__(self,name,age,like):\n",
    "        self.name = name\n",
    "        self.age = age\n",
    "        self.like = like\n",
    "    def studentInfo(self):\n",
    "        print(f\"name:{self.name}, age:{self.age}, like :{self.like}\")\n",
    "kim = Student(\"Kim\",17,\"soccer\")\n",
    "jang = Student(\"jang\",17,\"carbot\")\n",
    "\n",
    "kim.studentInfo()\n",
    "jang.studentInfo()\n"
   ]
  },
  {
   "cell_type": "code",
   "execution_count": 4,
   "metadata": {},
   "outputs": [
    {
     "name": "stdout",
     "output_type": "stream",
     "text": [
      "Mom is\n",
      "She is tall\n",
      "She is good at studing\n",
      "baby is\n",
      "She is tall\n",
      "She is good at studing\n",
      "She is good at sports\n"
     ]
    }
   ],
   "source": [
    "class Mother():\n",
    "    def character(self):\n",
    "        print(\"She is tall\")\n",
    "        print(\"She is good at studing\")\n",
    "class Daughter(Mother):\n",
    "    def character(self):\n",
    "        super().character()\n",
    "        print(\"She is good at sports\")\n",
    "\n",
    "Mom = Mother()\n",
    "baby = Daughter()\n",
    "print(\"Mom is\")\n",
    "Mom.character()\n",
    "print(\"baby is\")\n",
    "baby.character()\n"
   ]
  },
  {
   "cell_type": "code",
   "execution_count": 5,
   "metadata": {},
   "outputs": [
    {
     "name": "stdout",
     "output_type": "stream",
     "text": [
      "Mom is\n",
      "She is tall\n",
      "She is good at studing\n",
      "baby is\n",
      "She is tall\n",
      "She is good at studing\n"
     ]
    }
   ],
   "source": [
    "class Mother():\n",
    "    def __init__(self):\n",
    "        print(\"She is tall\")\n",
    "        print(\"She is good at studing\")\n",
    "class Daughter(Mother):\n",
    "    def __init__r(self):\n",
    "        super().__init__()\n",
    "        print(\"She is good at sports\")\n",
    "\n",
    "print(\"Mom is\")\n",
    "Mom = Mother()\n",
    "print(\"baby is\")\n",
    "baby = Daughter()\n"
   ]
  }
 ],
 "metadata": {
  "kernelspec": {
   "display_name": "Python 3",
   "language": "python",
   "name": "python3"
  },
  "language_info": {
   "codemirror_mode": {
    "name": "ipython",
    "version": 3
   },
   "file_extension": ".py",
   "mimetype": "text/x-python",
   "name": "python",
   "nbconvert_exporter": "python",
   "pygments_lexer": "ipython3",
   "version": "3.8.2"
  },
  "orig_nbformat": 4
 },
 "nbformat": 4,
 "nbformat_minor": 2
}
